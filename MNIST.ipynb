{
 "cells": [
  {
   "cell_type": "code",
   "execution_count": 35,
   "metadata": {
    "collapsed": true
   },
   "outputs": [],
   "source": [
    "# common imports \n",
    "import pandas as pd\n",
    "import numpy as np\n",
    "import matplotlib\n",
    "import matplotlib.pyplot as plt\n",
    "np.random.seed(20)"
   ]
  },
  {
   "cell_type": "code",
   "execution_count": 36,
   "metadata": {},
   "outputs": [
    {
     "name": "stdout",
     "output_type": "stream",
     "text": [
      "train: (42000, 785)\n",
      "test: (28000, 784)\n"
     ]
    }
   ],
   "source": [
    "# load data\n",
    "train = pd.read_csv(\"train.csv\")\n",
    "test = pd.read_csv(\"test.csv\")\n",
    "print(\"train:\", train.shape)\n",
    "print(\"test:\", test.shape)"
   ]
  },
  {
   "cell_type": "code",
   "execution_count": 37,
   "metadata": {
    "collapsed": true
   },
   "outputs": [],
   "source": [
    "y_train = train[\"label\"].values\n",
    "X_train = train.drop([\"label\"], axis=1).values"
   ]
  },
  {
   "cell_type": "code",
   "execution_count": 38,
   "metadata": {
    "collapsed": true
   },
   "outputs": [],
   "source": [
    "# dimension reduction\n",
    "from sklearn.decomposition import PCA\n",
    "def find_component(dat):\n",
    "    pca = PCA()\n",
    "    pca.fit(dat)\n",
    "    cumsum = np.cumsum(pca.explained_variance_ratio_)\n",
    "    dimension = np.argmax(cumsum>=0.95)\n",
    "    fig = plt.figure(figsize=(12,8))\n",
    "    plt.plot(cumsum, \"b--\")\n",
    "    plt.axhline(y=0.95, linestyle=\"-\", c=\"red\")\n",
    "    plt.axvline(x=dimension, linestyle=\"-\", c=\"green\")\n",
    "    plt.annotate(\"95% Explained Variance, dimension={0}\".format(dimension), \n",
    "                 xy=(dimension, cumsum[dimension]), \n",
    "                 xytext=(dimension, cumsum[dimension]-0.05),\n",
    "                 arrowprops=dict(facecolor=\"black\"),horizontalalignment=\"left\", verticalalignment=\"top\")\n",
    "    plt.xlabel(\"Dimensions\")\n",
    "    plt.ylabel(\"Explained Variance Ratio\")\n",
    "    plt.show()"
   ]
  },
  {
   "cell_type": "code",
   "execution_count": 39,
   "metadata": {},
   "outputs": [
    {
     "data": {
      "image/png": "[encoded data removed]",
      "text/plain": [
       "<matplotlib.figure.Figure at 0x19536447a90>"
      ]
     },
     "metadata": {},
     "output_type": "display_data"
    }
   ],
   "source": [
    "find_component(X_train)"
   ]
  },
  {
   "cell_type": "code",
   "execution_count": 42,
   "metadata": {},
   "outputs": [],
   "source": [
    "from sklearn.preprocessing import StandardScaler\n",
    "from sklearn.pipeline import Pipeline\n",
    "pip = Pipeline([(\"pca\", PCA(n_components=0.95)),\n",
    "               (\"scaler\", StandardScaler())])\n",
    "prepared_X_train = pip.fit_transform(X_train.astype(np.float64))\n",
    "prepared_X_test = pip.transform(test.values.astype(np.float64))"
   ]
  },
  {
   "cell_type": "code",
   "execution_count": 46,
   "metadata": {},
   "outputs": [
    {
     "name": "stdout",
     "output_type": "stream",
     "text": [
      "(42000, 154) (28000, 154)\n"
     ]
    }
   ],
   "source": [
    "print(prepared_X_train.shape, prepared_X_test.shape)"
   ]
  },
  {
   "cell_type": "code",
   "execution_count": 47,
   "metadata": {
    "collapsed": true
   },
   "outputs": [],
   "source": [
    "from sklearn.svm import SVC\n",
    "from sklearn.ensemble import RandomForestClassifier\n",
    "from sklearn.linear_model import SGDClassifier\n",
    "from sklearn.neighbors import KNeighborsClassifier\n",
    "from sklearn.model_selection import cross_val_score\n",
    "\n",
    "classifiers = [SVC(decision_function_shape=\"ovr\"),\n",
    "      RandomForestClassifier(),\n",
    "      SGDClassifier(),\n",
    "      KNeighborsClassifier()]\n",
    "\n",
    "clf_score = {}\n",
    "\n",
    "for clf in classifiers:\n",
    "    clf_name = clf.__class__.__name__\n",
    "    score = cross_val_score(clf, prepared_X_train, y, cv=3, scoring=\"accuracy\")\n",
    "    if clf_name in clf_score:\n",
    "        clf_score[clf_name].append(score)\n",
    "    else:\n",
    "        clf_score[clf_name] = [score]"
   ]
  },
  {
   "cell_type": "code",
   "execution_count": 48,
   "metadata": {},
   "outputs": [
    {
     "name": "stdout",
     "output_type": "stream",
     "text": [
      "SVC : 0.966785610904\n",
      "RandomForestClassifier : 0.866690263297\n",
      "SGDClassifier : 0.90252405381\n",
      "KNeighborsClassifier : 0.875857127588\n"
     ]
    }
   ],
   "source": [
    "for key, value in clf_score.items():\n",
    "    print(key, \":\",value[0].mean())"
   ]
  },
  {
   "cell_type": "markdown",
   "metadata": {},
   "source": [
    "SVC has the highest cross-validation accuracy"
   ]
  },
  {
   "cell_type": "code",
   "execution_count": 49,
   "metadata": {},
   "outputs": [
    {
     "name": "stdout",
     "output_type": "stream",
     "text": [
      "Fitting 3 folds for each of 5 candidates, totalling 15 fits\n"
     ]
    },
    {
     "name": "stderr",
     "output_type": "stream",
     "text": [
      "[Parallel(n_jobs=-1)]: Done  12 out of  15 | elapsed: 25.9min remaining:  6.5min\n",
      "[Parallel(n_jobs=-1)]: Done  15 out of  15 | elapsed: 39.4min finished\n"
     ]
    },
    {
     "data": {
      "text/plain": [
       "RandomizedSearchCV(cv=3, error_score='raise',\n",
       "          estimator=SVC(C=1.0, cache_size=200, class_weight=None, coef0=0.0,\n",
       "  decision_function_shape='ovr', degree=3, gamma='auto', kernel='rbf',\n",
       "  max_iter=-1, probability=False, random_state=None, shrinking=True,\n",
       "  tol=0.001, verbose=False),\n",
       "          fit_params={}, iid=True, n_iter=5, n_jobs=-1,\n",
       "          param_distributions={'gamma': <scipy.stats._distn_infrastructure.rv_frozen object at 0x0000019536E04198>, 'C': <scipy.stats._distn_infrastructure.rv_frozen object at 0x0000019536E04710>},\n",
       "          pre_dispatch='2*n_jobs', random_state=None, refit=True,\n",
       "          return_train_score=True, scoring='accuracy', verbose=4)"
      ]
     },
     "execution_count": 49,
     "metadata": {},
     "output_type": "execute_result"
    }
   ],
   "source": [
    "from sklearn.model_selection import RandomizedSearchCV\n",
    "from scipy.stats import reciprocal, uniform\n",
    "svm_clf = SVC(decision_function_shape=\"ovr\")\n",
    "param_dist = {\"gamma\": reciprocal(0.001, 0.1), \"C\": uniform(1, 10)}\n",
    "rnd_search_cv = RandomizedSearchCV(svm_clf, param_dist, cv=3, scoring=\"accuracy\", verbose=4, n_jobs=-1, n_iter=5)\n",
    "rnd_search_cv.fit(prepared_X_train, y)"
   ]
  },
  {
   "cell_type": "code",
   "execution_count": 50,
   "metadata": {},
   "outputs": [
    {
     "data": {
      "text/plain": [
       "SVC(C=3.9533501415054362, cache_size=200, class_weight=None, coef0=0.0,\n",
       "  decision_function_shape='ovr', degree=3, gamma=0.0045461621820882796,\n",
       "  kernel='rbf', max_iter=-1, probability=False, random_state=None,\n",
       "  shrinking=True, tol=0.001, verbose=False)"
      ]
     },
     "execution_count": 50,
     "metadata": {},
     "output_type": "execute_result"
    }
   ],
   "source": [
    "rnd_search_cv.best_estimator_"
   ]
  },
  {
   "cell_type": "code",
   "execution_count": 51,
   "metadata": {},
   "outputs": [
    {
     "data": {
      "text/plain": [
       "0.97007142857142858"
      ]
     },
     "execution_count": 51,
     "metadata": {},
     "output_type": "execute_result"
    }
   ],
   "source": [
    "rnd_search_cv.best_score_"
   ]
  },
  {
   "cell_type": "code",
   "execution_count": 52,
   "metadata": {},
   "outputs": [],
   "source": [
    "clf = rnd_search_cv.best_estimator_\n",
    "prediction = clf.predict(prepared_X_train)"
   ]
  },
  {
   "cell_type": "code",
   "execution_count": 53,
   "metadata": {},
   "outputs": [
    {
     "data": {
      "text/plain": [
       "0.9997380952380952"
      ]
     },
     "execution_count": 53,
     "metadata": {},
     "output_type": "execute_result"
    }
   ],
   "source": [
    "from sklearn.metrics import accuracy_score\n",
    "accuracy_score(prediction, y)"
   ]
  },
  {
   "cell_type": "code",
   "execution_count": 59,
   "metadata": {
    "collapsed": true
   },
   "outputs": [],
   "source": [
    "prediction_test = clf.predict(prepared_X_test)"
   ]
  },
  {
   "cell_type": "code",
   "execution_count": 60,
   "metadata": {},
   "outputs": [],
   "source": [
    "prediction_df = pd.DataFrame({\"ImageId\": np.arange(1, len(prediction_test)+1), \"Label\": prediction_test})\n",
    "prediction_df.to_csv(\"submission2.csv\", index=False)"
   ]
  },
  {
   "cell_type": "code",
   "execution_count": 62,
   "metadata": {},
   "outputs": [
    {
     "data": {
      "text/plain": [
       "0.94157142857142861"
      ]
     },
     "execution_count": 62,
     "metadata": {},
     "output_type": "execute_result"
    }
   ],
   "source": [
    "pred1 = pd.read_csv(\"submission.csv\")\n",
    "pred2 = pd.read_csv(\"submission2.csv\")\n",
    "accuracy_score(pred1[\"Label\"],pred2[\"Label\"])"
   ]
  }
 ],
 "metadata": {
  "kernelspec": {
   "display_name": "Python 3",
   "language": "python",
   "name": "python3"
  },
  "language_info": {
   "codemirror_mode": {
    "name": "ipython",
    "version": 3
   },
   "file_extension": ".py",
   "mimetype": "text/x-python",
   "name": "python",
   "nbconvert_exporter": "python",
   "pygments_lexer": "ipython3",
   "version": "3.6.1"
  }
 },
 "nbformat": 4,
 "nbformat_minor": 2
}
